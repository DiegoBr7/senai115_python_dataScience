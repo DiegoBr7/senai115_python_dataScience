{
 "cells": [
  {
   "cell_type": "code",
   "execution_count": 3,
   "id": "cebbbe0e-5138-4bc3-81a7-2e609e05bfb0",
   "metadata": {},
   "outputs": [],
   "source": [
    "#Importar as bibliotecas\n",
    "\n",
    "from selenium import webdriver #manupular dados na web\n",
    "\n",
    "from selenium.webdriver.common.by import By"
   ]
  },
  {
   "cell_type": "code",
   "execution_count": 9,
   "id": "637b2ff3-0302-4d03-afb1-b4a542d42886",
   "metadata": {},
   "outputs": [
    {
     "ename": "NameError",
     "evalue": "name 'By' is not defined",
     "output_type": "error",
     "traceback": [
      "\u001b[1;31m---------------------------------------------------------------------------\u001b[0m",
      "\u001b[1;31mNameError\u001b[0m                                 Traceback (most recent call last)",
      "Cell \u001b[1;32mIn[9], line 7\u001b[0m\n\u001b[0;32m      3\u001b[0m driver\u001b[38;5;241m.\u001b[39mimplicitly_wait(\u001b[38;5;241m2\u001b[39m) \u001b[38;5;66;03m#Método esperar dois segundos\u001b[39;00m\n\u001b[0;32m      5\u001b[0m driver\u001b[38;5;241m.\u001b[39mget(\u001b[38;5;124m'\u001b[39m\u001b[38;5;124m https://www.transfermarkt.com.br/verein-statistik/zuschauerrangliste/statistik?wettbewerb=liga&sortierung=best&selectedOptionKey=0 \u001b[39m\u001b[38;5;124m'\u001b[39m )\n\u001b[1;32m----> 7\u001b[0m dados_tabela \u001b[38;5;241m=\u001b[39m driver\u001b[38;5;241m.\u001b[39mfind_elements(\u001b[43mBy\u001b[49m\u001b[38;5;241m.\u001b[39mTAG_NAME, \u001b[38;5;124m'\u001b[39m\u001b[38;5;124mtd\u001b[39m\u001b[38;5;124m'\u001b[39m)\n\u001b[0;32m      9\u001b[0m \u001b[38;5;28mprint\u001b[39m(dados_tabela)\n",
      "\u001b[1;31mNameError\u001b[0m: name 'By' is not defined"
     ]
    }
   ],
   "source": [
    "driver = webdriver.Chrome() #Chamar a classe do Chrome \n",
    "\n",
    "driver.implicitly_wait(2) #Método esperar dois segundos\n",
    "\n",
    "driver.get(' https://www.transfermarkt.com.br/verein-statistik/zuschauerrangliste/statistik?wettbewerb=liga&sortierung=best&selectedOptionKey=0 ' )\n",
    "\n",
    "dados_tabela = driver.find_elements(By.TAG_NAME, 'td')\n",
    "\n",
    "print(dados_tabela[0].text)"
   ]
  }
 ],
 "metadata": {
  "kernelspec": {
   "display_name": "Python 3 (ipykernel)",
   "language": "python",
   "name": "python3"
  },
  "language_info": {
   "codemirror_mode": {
    "name": "ipython",
    "version": 3
   },
   "file_extension": ".py",
   "mimetype": "text/x-python",
   "name": "python",
   "nbconvert_exporter": "python",
   "pygments_lexer": "ipython3",
   "version": "3.12.4"
  }
 },
 "nbformat": 4,
 "nbformat_minor": 5
}
