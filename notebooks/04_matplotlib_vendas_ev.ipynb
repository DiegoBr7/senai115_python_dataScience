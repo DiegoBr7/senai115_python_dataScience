{
 "cells": [
  {
   "cell_type": "markdown",
<<<<<<< HEAD
   "id": "c92229ec-a912-4350-9f13-5ba8fc76a792",
=======
   "id": "ce9b396a-8999-44ee-aea1-b70e42cd2f31",
>>>>>>> 94b4a4c8f7101c76f564e8c8d6c63b611f8c99d2
   "metadata": {},
   "source": [
    "# Desafio\n",
    "\n",
    "### Exercício: Explorando o Conjunto de Dados de Vendas de carros elétricos\n",
    "\n",
    "**Objetivo:** Utilizar a biblioteca Pandas e Matplotlib para extrair e analisar informações dos conjuntos de dados de vendas de carros elétricos.\n",
    "link: https://www.kaggle.com/datasets/patricklford/global-ev-sales-2010-2024\n",
    "\n",
    "Desafios/etapas:\n",
<<<<<<< HEAD
    "1. importar a biblioteca pandas no Jupyter\n",
    "2. ler o arquivo .csv\n",
    "3. apresentar informações básicas do dataset\n",
    "4. limpar as linhas que possuirem dados vazios\n",
    "5. plotar um gráfico do tipo \"pie\" verificando a contagem de cada tipo de veículos (coluna mode).\n",
    "6. plotar um gráfico do tipo \"bar\" verificando as 10 primeiras regiões em quantidade de veículos."
=======
    "1 - importar a biblioteca pandas no Jupyter\n",
    "2 - ler o arquivo .csv\n",
    "3 - apresentar informações básicas do dataset\n",
    "4 - limpar as linhas que possuirem dados vazios\n",
    "5 - plotar um gráfico do tipo \"pie\" verificando a contagem de cada tipo de veículos (coluna mode).\n",
    "6 - plotar um gráfico do tipo \"bar\" verificando as 10 primeiras regiões em quantidade de veículos."
>>>>>>> 94b4a4c8f7101c76f564e8c8d6c63b611f8c99d2
   ]
  },
  {
   "cell_type": "code",
<<<<<<< HEAD
   "execution_count": 3,
   "id": "2b80b32f-eb6c-4de6-98ac-d5018b64bb6c",
=======
   "execution_count": 6,
   "id": "d3361558-2e26-4a02-a161-ff5b4dfa6152",
>>>>>>> 94b4a4c8f7101c76f564e8c8d6c63b611f8c99d2
   "metadata": {},
   "outputs": [],
   "source": [
    "#importar as bibliotecas\n",
<<<<<<< HEAD
    "#pandas -> vou transformar a tabela\n",
    "\n",
    "import pandas as pd\n",
    "\n",
    "import matplotlib.pyplot as plt"
=======
    "import pandas as pd #biblioteca para trabalhar com o arquivo .csv\n",
    "import matplotlib.pyplot as plt #biblioteca para trabalhar com gráficos"
>>>>>>> 94b4a4c8f7101c76f564e8c8d6c63b611f8c99d2
   ]
  },
  {
   "cell_type": "code",
<<<<<<< HEAD
   "execution_count": 11,
   "id": "81fe4f10-fc98-40e1-abcd-fc6bd2b63209",
=======
   "execution_count": 7,
   "id": "7a23204c-2e1b-446a-a6ac-947726f378f4",
   "metadata": {},
   "outputs": [],
   "source": [
    "#Ler o arquivo .csv\n",
    "df = pd.read_csv('../dataset/IEA Global EV Data 2024.csv')"
   ]
  },
  {
   "cell_type": "code",
   "execution_count": 8,
   "id": "c7b28f7c-cab0-46a7-98eb-6d164fd50b12",
>>>>>>> 94b4a4c8f7101c76f564e8c8d6c63b611f8c99d2
   "metadata": {},
   "outputs": [
    {
     "data": {
      "text/html": [
       "<div>\n",
       "<style scoped>\n",
       "    .dataframe tbody tr th:only-of-type {\n",
       "        vertical-align: middle;\n",
       "    }\n",
       "\n",
       "    .dataframe tbody tr th {\n",
       "        vertical-align: top;\n",
       "    }\n",
       "\n",
       "    .dataframe thead th {\n",
       "        text-align: right;\n",
       "    }\n",
       "</style>\n",
       "<table border=\"1\" class=\"dataframe\">\n",
       "  <thead>\n",
       "    <tr style=\"text-align: right;\">\n",
       "      <th></th>\n",
       "      <th>region</th>\n",
       "      <th>category</th>\n",
       "      <th>parameter</th>\n",
       "      <th>mode</th>\n",
       "      <th>powertrain</th>\n",
       "      <th>year</th>\n",
       "      <th>unit</th>\n",
       "      <th>value</th>\n",
       "    </tr>\n",
       "  </thead>\n",
       "  <tbody>\n",
       "    <tr>\n",
       "      <th>0</th>\n",
       "      <td>Australia</td>\n",
       "      <td>Historical</td>\n",
       "      <td>EV stock share</td>\n",
       "      <td>Cars</td>\n",
       "      <td>EV</td>\n",
       "      <td>2011</td>\n",
       "      <td>percent</td>\n",
       "      <td>0.00039</td>\n",
       "    </tr>\n",
       "    <tr>\n",
       "      <th>1</th>\n",
       "      <td>Australia</td>\n",
       "      <td>Historical</td>\n",
       "      <td>EV sales share</td>\n",
       "      <td>Cars</td>\n",
       "      <td>EV</td>\n",
       "      <td>2011</td>\n",
       "      <td>percent</td>\n",
       "      <td>0.00650</td>\n",
       "    </tr>\n",
       "    <tr>\n",
       "      <th>2</th>\n",
       "      <td>Australia</td>\n",
       "      <td>Historical</td>\n",
       "      <td>EV sales</td>\n",
       "      <td>Cars</td>\n",
       "      <td>BEV</td>\n",
       "      <td>2011</td>\n",
       "      <td>Vehicles</td>\n",
       "      <td>49.00000</td>\n",
       "    </tr>\n",
       "    <tr>\n",
       "      <th>3</th>\n",
       "      <td>Australia</td>\n",
       "      <td>Historical</td>\n",
       "      <td>EV stock</td>\n",
       "      <td>Cars</td>\n",
       "      <td>BEV</td>\n",
       "      <td>2011</td>\n",
       "      <td>Vehicles</td>\n",
       "      <td>49.00000</td>\n",
       "    </tr>\n",
       "    <tr>\n",
       "      <th>4</th>\n",
       "      <td>Australia</td>\n",
       "      <td>Historical</td>\n",
       "      <td>EV stock</td>\n",
       "      <td>Cars</td>\n",
       "      <td>BEV</td>\n",
       "      <td>2012</td>\n",
       "      <td>Vehicles</td>\n",
       "      <td>220.00000</td>\n",
       "    </tr>\n",
       "  </tbody>\n",
       "</table>\n",
       "</div>"
      ],
      "text/plain": [
       "      region    category       parameter  mode powertrain  year      unit  \\\n",
       "0  Australia  Historical  EV stock share  Cars         EV  2011   percent   \n",
       "1  Australia  Historical  EV sales share  Cars         EV  2011   percent   \n",
       "2  Australia  Historical        EV sales  Cars        BEV  2011  Vehicles   \n",
       "3  Australia  Historical        EV stock  Cars        BEV  2011  Vehicles   \n",
       "4  Australia  Historical        EV stock  Cars        BEV  2012  Vehicles   \n",
       "\n",
       "       value  \n",
       "0    0.00039  \n",
       "1    0.00650  \n",
       "2   49.00000  \n",
       "3   49.00000  \n",
       "4  220.00000  "
      ]
     },
<<<<<<< HEAD
     "execution_count": 11,
=======
     "execution_count": 8,
>>>>>>> 94b4a4c8f7101c76f564e8c8d6c63b611f8c99d2
     "metadata": {},
     "output_type": "execute_result"
    }
   ],
   "source": [
<<<<<<< HEAD
    "#2 - ler o arquivo .csv\n",
    "\n",
    "df = pd.read_csv('../dataset/IEA Global EV Data 2024.csv')\n",
    "\n",
    "dfOne = pd.DataFrame(df)\n",
    "\n",
    "dfOne.head()"
=======
    "#Apresentar as 5 primeiras linhas do dataFrame\n",
    "df.head()"
>>>>>>> 94b4a4c8f7101c76f564e8c8d6c63b611f8c99d2
   ]
  },
  {
   "cell_type": "code",
<<<<<<< HEAD
   "execution_count": 5,
   "id": "66075256-5fe6-4f47-8df2-a3a1fdacbea2",
   "metadata": {},
   "outputs": [
    {
     "data": {
      "text/html": [
       "<div>\n",
       "<style scoped>\n",
       "    .dataframe tbody tr th:only-of-type {\n",
       "        vertical-align: middle;\n",
       "    }\n",
       "\n",
       "    .dataframe tbody tr th {\n",
       "        vertical-align: top;\n",
       "    }\n",
       "\n",
       "    .dataframe thead th {\n",
       "        text-align: right;\n",
       "    }\n",
       "</style>\n",
       "<table border=\"1\" class=\"dataframe\">\n",
       "  <thead>\n",
       "    <tr style=\"text-align: right;\">\n",
       "      <th></th>\n",
       "      <th>region</th>\n",
       "      <th>category</th>\n",
       "      <th>parameter</th>\n",
       "      <th>mode</th>\n",
       "      <th>powertrain</th>\n",
       "      <th>year</th>\n",
       "      <th>unit</th>\n",
       "      <th>value</th>\n",
       "    </tr>\n",
       "  </thead>\n",
       "  <tbody>\n",
       "    <tr>\n",
       "      <th>0</th>\n",
       "      <td>Australia</td>\n",
       "      <td>Historical</td>\n",
       "      <td>EV stock share</td>\n",
       "      <td>Cars</td>\n",
       "      <td>EV</td>\n",
       "      <td>2011</td>\n",
       "      <td>percent</td>\n",
       "      <td>0.00039</td>\n",
       "    </tr>\n",
       "    <tr>\n",
       "      <th>1</th>\n",
       "      <td>Australia</td>\n",
       "      <td>Historical</td>\n",
       "      <td>EV sales share</td>\n",
       "      <td>Cars</td>\n",
       "      <td>EV</td>\n",
       "      <td>2011</td>\n",
       "      <td>percent</td>\n",
       "      <td>0.00650</td>\n",
       "    </tr>\n",
       "    <tr>\n",
       "      <th>2</th>\n",
       "      <td>Australia</td>\n",
       "      <td>Historical</td>\n",
       "      <td>EV sales</td>\n",
       "      <td>Cars</td>\n",
       "      <td>BEV</td>\n",
       "      <td>2011</td>\n",
       "      <td>Vehicles</td>\n",
       "      <td>49.00000</td>\n",
       "    </tr>\n",
       "    <tr>\n",
       "      <th>3</th>\n",
       "      <td>Australia</td>\n",
       "      <td>Historical</td>\n",
       "      <td>EV stock</td>\n",
       "      <td>Cars</td>\n",
       "      <td>BEV</td>\n",
       "      <td>2011</td>\n",
       "      <td>Vehicles</td>\n",
       "      <td>49.00000</td>\n",
       "    </tr>\n",
       "    <tr>\n",
       "      <th>4</th>\n",
       "      <td>Australia</td>\n",
       "      <td>Historical</td>\n",
       "      <td>EV stock</td>\n",
       "      <td>Cars</td>\n",
       "      <td>BEV</td>\n",
       "      <td>2012</td>\n",
       "      <td>Vehicles</td>\n",
       "      <td>220.00000</td>\n",
       "    </tr>\n",
       "  </tbody>\n",
       "</table>\n",
       "</div>"
      ],
      "text/plain": [
       "      region    category       parameter  mode powertrain  year      unit  \\\n",
       "0  Australia  Historical  EV stock share  Cars         EV  2011   percent   \n",
       "1  Australia  Historical  EV sales share  Cars         EV  2011   percent   \n",
       "2  Australia  Historical        EV sales  Cars        BEV  2011  Vehicles   \n",
       "3  Australia  Historical        EV stock  Cars        BEV  2011  Vehicles   \n",
       "4  Australia  Historical        EV stock  Cars        BEV  2012  Vehicles   \n",
       "\n",
       "       value  \n",
       "0    0.00039  \n",
       "1    0.00650  \n",
       "2   49.00000  \n",
       "3   49.00000  \n",
       "4  220.00000  "
      ]
     },
     "execution_count": 5,
     "metadata": {},
     "output_type": "execute_result"
    }
   ],
   "source": [
    "# dropna drop not a number\n",
    "\n",
    "df_clean = df.dropna()\n",
    "df_clean.head()"
   ]
  },
  {
   "cell_type": "code",
   "execution_count": 15,
   "id": "8fc8e9dc-e42a-4eb8-ae22-ce9659a5743a",
   "metadata": {},
   "outputs": [
    {
     "data": {
      "text/plain": [
       "([<matplotlib.patches.Wedge at 0x1ea1e294e60>,\n",
       "  <matplotlib.patches.Wedge at 0x1ea1e296390>,\n",
       "  <matplotlib.patches.Wedge at 0x1ea1d891610>,\n",
       "  <matplotlib.patches.Wedge at 0x1ea1d8892b0>,\n",
       "  <matplotlib.patches.Wedge at 0x1ea1d93d670>],\n",
       " [Text(-0.980615013829256, -0.4983916077269444, 'Cars'),\n",
       "  Text(0.7393658875233856, -0.8144556982222892, 'Buses'),\n",
       "  Text(0.9791258542523542, 0.5013108432246381, 'Vans'),\n",
       "  Text(0.023757551552927997, 1.0997434149583303, 'Trucks'),\n",
       "  Text(-0.6611018791669531, 0.8791725117187886, 'EV')],\n",
       " [Text(-0.5348809166341395, -0.2718499678510605, '37.2%'),\n",
       "  Text(0.4032904841036648, -0.44424856266670315, '21.3%'),\n",
       "  Text(0.5340686477740113, 0.27344227812252986, '20.3%'),\n",
       "  Text(0.01295866448341527, 0.5998600445227255, '14.0%'),\n",
       "  Text(-0.3606010250001562, 0.47954864275570286, '7.3%')])"
      ]
     },
     "execution_count": 15,
     "metadata": {},
     "output_type": "execute_result"
    },
    {
     "data": {
      "image/png": "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",
      "text/plain": [
       "<Figure size 1000x700 with 1 Axes>"
      ]
     },
     "metadata": {},
     "output_type": "display_data"
    }
   ],
   "source": [
    "# Criar o gráfico de pizza\n",
    "plt.figure(figsize=(10, 7))\n",
    "plt.pie(contagem_veiculos, labels=contagem_veiculos.index, autopct='%1.1f%%', startangle=140)\n"
   ]
  },
  {
   "cell_type": "code",
   "execution_count": 11,
   "id": "d4649235-66b5-436d-8e0e-fcb13416913a",
   "metadata": {},
   "outputs": [
    {
     "data": {
      "image/png": "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",
      "text/plain": [
       "<Figure size 1200x800 with 1 Axes>"
      ]
     },
     "metadata": {},
     "output_type": "display_data"
    }
   ],
   "source": [
    "# Contar a quantidade de veículos por região\n",
    "contagem_regioes = df['region'].value_counts()\n",
    "\n",
    "# Selecionar as 10 principais regiões\n",
    "top_10_regioes = contagem_regioes.head(10)\n",
    "\n",
    "# Criar o gráfico de barras\n",
    "plt.figure(figsize=(12, 8))\n",
    "top_10_regioes.plot(kind='bar', color='skyblue')\n",
    "\n",
    "# Adicionar título e rótulos aos eixos\n",
    "plt.title('Top 10 Regiões com Maior Quantidade de Veículos')\n",
    "plt.xlabel('Região')\n",
    "plt.ylabel('Quantidade de Veículos')\n",
    "\n",
    "# Ajustar o layout e mostrar o gráfico\n",
    "plt.xticks(rotation=45)\n",
    "plt.tight_layout()\n",
    "plt.show() \n",
    "\n"
   ]
  },
  {
   "cell_type": "code",
   "execution_count": 27,
   "id": "c1c54914-0c71-4120-8385-1909d0ca59fc",
   "metadata": {},
   "outputs": [
    {
     "data": {
      "text/plain": [
       "0"
      ]
     },
     "execution_count": 27,
     "metadata": {},
     "output_type": "execute_result"
    }
   ],
   "source": [
    "df.isnull().sum()\n",
    "\n",
    "df.duplicated().sum()"
   ]
  },
  {
   "cell_type": "code",
   "execution_count": 37,
   "id": "bff57edf-bca9-423c-af3e-4447a5c8e1eb",
   "metadata": {},
   "outputs": [
    {
     "name": "stdout",
     "output_type": "stream",
     "text": [
      "['percent' 'Vehicles' 'charging points' 'GWh' 'Milion barrels per day'\n",
      " 'Oil displacement, million lge']\n",
      "['Vehicles']\n"
     ]
    }
   ],
   "source": [
    "df_vehicles = df.loc[df['unit'] == 'Vehicles' ]\n",
    "\n",
    "print(df.unit.unique())\n",
    "print(df_vehicles.unit.unique())"
   ]
  },
  {
   "cell_type": "code",
   "execution_count": 13,
   "id": "c4f76169-d7eb-4702-aa9d-46587f2496ea",
=======
   "execution_count": 9,
   "id": "7666f87f-28b1-491a-8be9-4cb7ae665da9",
>>>>>>> 94b4a4c8f7101c76f564e8c8d6c63b611f8c99d2
   "metadata": {},
   "outputs": [
    {
     "name": "stdout",
     "output_type": "stream",
     "text": [
      "<class 'pandas.core.frame.DataFrame'>\n",
      "RangeIndex: 12654 entries, 0 to 12653\n",
      "Data columns (total 8 columns):\n",
      " #   Column      Non-Null Count  Dtype  \n",
      "---  ------      --------------  -----  \n",
      " 0   region      12654 non-null  object \n",
      " 1   category    12654 non-null  object \n",
      " 2   parameter   12654 non-null  object \n",
      " 3   mode        12654 non-null  object \n",
      " 4   powertrain  12654 non-null  object \n",
      " 5   year        12654 non-null  int64  \n",
      " 6   unit        12654 non-null  object \n",
      " 7   value       12654 non-null  float64\n",
      "dtypes: float64(1), int64(1), object(6)\n",
      "memory usage: 791.0+ KB\n"
     ]
    },
    {
     "data": {
      "text/html": [
       "<div>\n",
       "<style scoped>\n",
       "    .dataframe tbody tr th:only-of-type {\n",
       "        vertical-align: middle;\n",
       "    }\n",
       "\n",
       "    .dataframe tbody tr th {\n",
       "        vertical-align: top;\n",
       "    }\n",
       "\n",
       "    .dataframe thead th {\n",
       "        text-align: right;\n",
       "    }\n",
       "</style>\n",
       "<table border=\"1\" class=\"dataframe\">\n",
       "  <thead>\n",
       "    <tr style=\"text-align: right;\">\n",
       "      <th></th>\n",
       "      <th>year</th>\n",
       "      <th>value</th>\n",
       "    </tr>\n",
       "  </thead>\n",
       "  <tbody>\n",
       "    <tr>\n",
       "      <th>count</th>\n",
       "      <td>12654.000000</td>\n",
       "      <td>1.265400e+04</td>\n",
       "    </tr>\n",
       "    <tr>\n",
       "      <th>mean</th>\n",
       "      <td>2019.822112</td>\n",
       "      <td>4.273742e+05</td>\n",
       "    </tr>\n",
       "    <tr>\n",
       "      <th>std</th>\n",
       "      <td>5.476494</td>\n",
       "      <td>6.860498e+06</td>\n",
       "    </tr>\n",
       "    <tr>\n",
       "      <th>min</th>\n",
       "      <td>2010.000000</td>\n",
       "      <td>1.200000e-06</td>\n",
       "    </tr>\n",
       "    <tr>\n",
       "      <th>25%</th>\n",
       "      <td>2016.000000</td>\n",
       "      <td>2.000000e+00</td>\n",
       "    </tr>\n",
       "    <tr>\n",
       "      <th>50%</th>\n",
       "      <td>2020.000000</td>\n",
       "      <td>1.300000e+02</td>\n",
       "    </tr>\n",
       "    <tr>\n",
       "      <th>75%</th>\n",
       "      <td>2022.000000</td>\n",
       "      <td>5.500000e+03</td>\n",
       "    </tr>\n",
       "    <tr>\n",
       "      <th>max</th>\n",
       "      <td>2035.000000</td>\n",
       "      <td>4.400000e+08</td>\n",
       "    </tr>\n",
       "  </tbody>\n",
       "</table>\n",
       "</div>"
      ],
      "text/plain": [
       "               year         value\n",
       "count  12654.000000  1.265400e+04\n",
       "mean    2019.822112  4.273742e+05\n",
       "std        5.476494  6.860498e+06\n",
       "min     2010.000000  1.200000e-06\n",
       "25%     2016.000000  2.000000e+00\n",
       "50%     2020.000000  1.300000e+02\n",
       "75%     2022.000000  5.500000e+03\n",
       "max     2035.000000  4.400000e+08"
      ]
     },
<<<<<<< HEAD
     "execution_count": 13,
=======
     "execution_count": 9,
>>>>>>> 94b4a4c8f7101c76f564e8c8d6c63b611f8c99d2
     "metadata": {},
     "output_type": "execute_result"
    }
   ],
   "source": [
<<<<<<< HEAD
=======
    "#Informaçõe gerais\n",
>>>>>>> 94b4a4c8f7101c76f564e8c8d6c63b611f8c99d2
    "df.info()\n",
    "df.describe()"
   ]
  },
  {
   "cell_type": "code",
<<<<<<< HEAD
   "execution_count": 17,
   "id": "476467f3-4032-401e-ab20-86fb2f7ed1d2",
=======
   "execution_count": 10,
   "id": "1fa7c946-9f8f-4e73-9307-71c825021d57",
>>>>>>> 94b4a4c8f7101c76f564e8c8d6c63b611f8c99d2
   "metadata": {},
   "outputs": [
    {
     "data": {
      "text/plain": [
       "0"
      ]
     },
<<<<<<< HEAD
     "execution_count": 17,
=======
     "execution_count": 10,
>>>>>>> 94b4a4c8f7101c76f564e8c8d6c63b611f8c99d2
     "metadata": {},
     "output_type": "execute_result"
    }
   ],
   "source": [
<<<<<<< HEAD
    "#verificar valores duplicados \n",
    "\n",
    "df.duplicated().sum() #casa aparecer 0 siginifica que nao tem linhas iguais"
=======
    "#verificar valores duplicados\n",
    "df.duplicated().sum() #caso aparecer 0 significa que não tem linhas iguais"
>>>>>>> 94b4a4c8f7101c76f564e8c8d6c63b611f8c99d2
   ]
  },
  {
   "cell_type": "code",
<<<<<<< HEAD
   "execution_count": 21,
   "id": "a3ca10a8-9125-46dd-bccd-4eba7d57cb0f",
=======
   "execution_count": 11,
   "id": "cb87a4df-fa29-4e89-abaa-34816840579a",
>>>>>>> 94b4a4c8f7101c76f564e8c8d6c63b611f8c99d2
   "metadata": {},
   "outputs": [
    {
     "data": {
      "text/plain": [
       "region        0\n",
       "category      0\n",
       "parameter     0\n",
       "mode          0\n",
       "powertrain    0\n",
       "year          0\n",
       "unit          0\n",
       "value         0\n",
       "dtype: int64"
      ]
     },
<<<<<<< HEAD
     "execution_count": 21,
=======
     "execution_count": 11,
>>>>>>> 94b4a4c8f7101c76f564e8c8d6c63b611f8c99d2
     "metadata": {},
     "output_type": "execute_result"
    }
   ],
   "source": [
    "#verificar valores vazios por coluna\n",
<<<<<<< HEAD
    "\n",
=======
>>>>>>> 94b4a4c8f7101c76f564e8c8d6c63b611f8c99d2
    "df.isnull().sum()"
   ]
  },
  {
   "cell_type": "code",
<<<<<<< HEAD
   "execution_count": 23,
   "id": "eb581945-a9b3-4d7a-9f43-c88039805672",
=======
   "execution_count": 12,
   "id": "94a502a3-75bc-48d5-9a18-435f588d50fd",
   "metadata": {},
   "outputs": [],
   "source": [
    "#Pie\n",
    "df.head()\n",
    "df['unit'].unique() #tomar cuidado pois 'mode' é uma palavra reservada\n",
    "#A coluna unit possui valores de unidades diferentes portanto será necessários\n",
    "#definir a unidada para ser analisada\n",
    "\n",
    "#A unidade será 'vehicles' portanto é necessário criar um novo dataframe\n",
    "#com apenas essas linhas\n",
    "df_vehicles = df.loc[df['unit'] == 'Vehicles']"
   ]
  },
  {
   "cell_type": "code",
   "execution_count": 13,
   "id": "586082d6-59ac-45e3-a219-1533aa1b61d3",
>>>>>>> 94b4a4c8f7101c76f564e8c8d6c63b611f8c99d2
   "metadata": {},
   "outputs": [
    {
     "data": {
      "text/plain": [
<<<<<<< HEAD
       "array(['Australia', 'Austria', 'Belgium', 'Brazil', 'Bulgaria', 'Canada',\n",
       "       'Chile', 'China', 'Colombia', 'Costa Rica', 'Croatia', 'Cyprus',\n",
       "       'Czech Republic', 'Denmark', 'Estonia', 'EU27', 'Europe',\n",
       "       'Finland', 'France', 'Germany', 'Greece', 'Hungary', 'Iceland',\n",
       "       'India', 'Indonesia', 'Ireland', 'Israel', 'Italy', 'Japan',\n",
       "       'Korea', 'Latvia', 'Lithuania', 'Luxembourg', 'Mexico',\n",
       "       'Netherlands', 'New Zealand', 'Norway', 'Poland', 'Portugal',\n",
       "       'Rest of the world', 'Romania', 'Seychelles', 'Slovakia',\n",
       "       'Slovenia', 'South Africa', 'Spain', 'Sweden', 'Switzerland',\n",
       "       'Thailand', 'Turkiye', 'United Arab Emirates', 'United Kingdom',\n",
       "       'USA', 'World'], dtype=object)"
      ]
     },
     "execution_count": 23,
=======
       "array(['Vehicles'], dtype=object)"
      ]
     },
     "execution_count": 13,
>>>>>>> 94b4a4c8f7101c76f564e8c8d6c63b611f8c99d2
     "metadata": {},
     "output_type": "execute_result"
    }
   ],
   "source": [
<<<<<<< HEAD
    "#Pie\n",
    "\n",
    "df.head()\n",
    "df['mode'].unique() #tomar cuidado pois o 'mode' é uma palavra reservada\n",
    "df.region.unique()"
=======
    "df_vehicles['unit'].unique() #verifico os tipos únicos da coluna 'unit'\n"
>>>>>>> 94b4a4c8f7101c76f564e8c8d6c63b611f8c99d2
   ]
  },
  {
   "cell_type": "code",
<<<<<<< HEAD
   "execution_count": 25,
   "id": "4c3ad5b4-4170-439e-abe2-16ad9d9a12a5",
=======
   "execution_count": 14,
   "id": "0ff15da0-3345-436e-b76c-e679858c0992",
   "metadata": {},
   "outputs": [
    {
     "data": {
      "text/plain": [
       "([<matplotlib.patches.Wedge at 0x20decdf44d0>,\n",
       "  <matplotlib.patches.Wedge at 0x20decdc4bf0>,\n",
       "  <matplotlib.patches.Wedge at 0x20decdf50d0>,\n",
       "  <matplotlib.patches.Wedge at 0x20decdf5700>],\n",
       " [Text(0.2236940701869681, 1.0770148387850504, 'Cars'),\n",
       "  Text(-1.059475175108288, -0.29582486935560853, 'Buses'),\n",
       "  Text(0.05351735479744666, -1.0986973617586802, 'Vans'),\n",
       "  Text(1.0005952318392295, -0.45695643339447445, 'Trucks')],\n",
       " [Text(0.12201494737470986, 0.5874626393373001, '43.5%'),\n",
       "  Text(-0.5778955500590661, -0.1613590196485137, '21.7%'),\n",
       "  Text(0.0291912844349709, -0.5992894700501892, '21.2%'),\n",
       "  Text(0.5457792173668524, -0.2492489636697133, '13.6%')])"
      ]
     },
     "execution_count": 14,
     "metadata": {},
     "output_type": "execute_result"
    },
    {
     "data": {
      "image/png": "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",
      "text/plain": [
       "<Figure size 640x480 with 1 Axes>"
      ]
     },
     "metadata": {},
     "output_type": "display_data"
    }
   ],
   "source": [
    "#gráfico pie(torta)\n",
    "etiquetas = df_vehicles['mode'].unique()  #verifico os tipos únicos da coluna 'mode'\n",
    "valores_etiquetas = df_vehicles['mode'].value_counts()\n",
    "plt.pie(valores_etiquetas, labels=etiquetas, autopct='%1.1f%%')"
   ]
  },
  {
   "cell_type": "code",
   "execution_count": 15,
   "id": "9548c26b-f6fc-4da9-b4f9-6db492d06ed1",
>>>>>>> 94b4a4c8f7101c76f564e8c8d6c63b611f8c99d2
   "metadata": {},
   "outputs": [
    {
     "data": {
      "text/html": [
       "<div>\n",
       "<style scoped>\n",
       "    .dataframe tbody tr th:only-of-type {\n",
       "        vertical-align: middle;\n",
       "    }\n",
       "\n",
       "    .dataframe tbody tr th {\n",
       "        vertical-align: top;\n",
       "    }\n",
       "\n",
       "    .dataframe thead th {\n",
       "        text-align: right;\n",
       "    }\n",
       "</style>\n",
       "<table border=\"1\" class=\"dataframe\">\n",
       "  <thead>\n",
       "    <tr style=\"text-align: right;\">\n",
       "      <th></th>\n",
       "      <th>region</th>\n",
       "      <th>category</th>\n",
       "      <th>parameter</th>\n",
       "      <th>mode</th>\n",
       "      <th>powertrain</th>\n",
       "      <th>year</th>\n",
       "      <th>unit</th>\n",
       "      <th>value</th>\n",
       "    </tr>\n",
       "  </thead>\n",
       "  <tbody>\n",
       "    <tr>\n",
<<<<<<< HEAD
       "      <th>0</th>\n",
       "      <td>Australia</td>\n",
       "      <td>Historical</td>\n",
       "      <td>EV stock share</td>\n",
       "      <td>Cars</td>\n",
       "      <td>EV</td>\n",
       "      <td>2011</td>\n",
       "      <td>percent</td>\n",
       "      <td>0.00039</td>\n",
       "    </tr>\n",
       "    <tr>\n",
       "      <th>1</th>\n",
       "      <td>Australia</td>\n",
       "      <td>Historical</td>\n",
       "      <td>EV sales share</td>\n",
       "      <td>Cars</td>\n",
       "      <td>EV</td>\n",
       "      <td>2011</td>\n",
       "      <td>percent</td>\n",
       "      <td>0.00650</td>\n",
       "    </tr>\n",
       "    <tr>\n",
=======
>>>>>>> 94b4a4c8f7101c76f564e8c8d6c63b611f8c99d2
       "      <th>2</th>\n",
       "      <td>Australia</td>\n",
       "      <td>Historical</td>\n",
       "      <td>EV sales</td>\n",
       "      <td>Cars</td>\n",
       "      <td>BEV</td>\n",
       "      <td>2011</td>\n",
       "      <td>Vehicles</td>\n",
<<<<<<< HEAD
       "      <td>49.00000</td>\n",
=======
       "      <td>49.0</td>\n",
>>>>>>> 94b4a4c8f7101c76f564e8c8d6c63b611f8c99d2
       "    </tr>\n",
       "    <tr>\n",
       "      <th>3</th>\n",
       "      <td>Australia</td>\n",
       "      <td>Historical</td>\n",
       "      <td>EV stock</td>\n",
       "      <td>Cars</td>\n",
       "      <td>BEV</td>\n",
       "      <td>2011</td>\n",
       "      <td>Vehicles</td>\n",
<<<<<<< HEAD
       "      <td>49.00000</td>\n",
=======
       "      <td>49.0</td>\n",
>>>>>>> 94b4a4c8f7101c76f564e8c8d6c63b611f8c99d2
       "    </tr>\n",
       "    <tr>\n",
       "      <th>4</th>\n",
       "      <td>Australia</td>\n",
       "      <td>Historical</td>\n",
       "      <td>EV stock</td>\n",
       "      <td>Cars</td>\n",
       "      <td>BEV</td>\n",
       "      <td>2012</td>\n",
       "      <td>Vehicles</td>\n",
<<<<<<< HEAD
       "      <td>220.00000</td>\n",
=======
       "      <td>220.0</td>\n",
       "    </tr>\n",
       "    <tr>\n",
       "      <th>5</th>\n",
       "      <td>Australia</td>\n",
       "      <td>Historical</td>\n",
       "      <td>EV sales</td>\n",
       "      <td>Cars</td>\n",
       "      <td>BEV</td>\n",
       "      <td>2012</td>\n",
       "      <td>Vehicles</td>\n",
       "      <td>170.0</td>\n",
       "    </tr>\n",
       "    <tr>\n",
       "      <th>8</th>\n",
       "      <td>Australia</td>\n",
       "      <td>Historical</td>\n",
       "      <td>EV stock</td>\n",
       "      <td>Cars</td>\n",
       "      <td>PHEV</td>\n",
       "      <td>2012</td>\n",
       "      <td>Vehicles</td>\n",
       "      <td>80.0</td>\n",
>>>>>>> 94b4a4c8f7101c76f564e8c8d6c63b611f8c99d2
       "    </tr>\n",
       "  </tbody>\n",
       "</table>\n",
       "</div>"
      ],
      "text/plain": [
<<<<<<< HEAD
       "      region    category       parameter  mode powertrain  year      unit  \\\n",
       "0  Australia  Historical  EV stock share  Cars         EV  2011   percent   \n",
       "1  Australia  Historical  EV sales share  Cars         EV  2011   percent   \n",
       "2  Australia  Historical        EV sales  Cars        BEV  2011  Vehicles   \n",
       "3  Australia  Historical        EV stock  Cars        BEV  2011  Vehicles   \n",
       "4  Australia  Historical        EV stock  Cars        BEV  2012  Vehicles   \n",
       "\n",
       "       value  \n",
       "0    0.00039  \n",
       "1    0.00650  \n",
       "2   49.00000  \n",
       "3   49.00000  \n",
       "4  220.00000  "
      ]
     },
     "execution_count": 25,
=======
       "      region    category parameter  mode powertrain  year      unit  value\n",
       "2  Australia  Historical  EV sales  Cars        BEV  2011  Vehicles   49.0\n",
       "3  Australia  Historical  EV stock  Cars        BEV  2011  Vehicles   49.0\n",
       "4  Australia  Historical  EV stock  Cars        BEV  2012  Vehicles  220.0\n",
       "5  Australia  Historical  EV sales  Cars        BEV  2012  Vehicles  170.0\n",
       "8  Australia  Historical  EV stock  Cars       PHEV  2012  Vehicles   80.0"
      ]
     },
     "execution_count": 15,
>>>>>>> 94b4a4c8f7101c76f564e8c8d6c63b611f8c99d2
     "metadata": {},
     "output_type": "execute_result"
    }
   ],
   "source": [
<<<<<<< HEAD
    "df.head()"
=======
    "df_vehicles.head()"
>>>>>>> 94b4a4c8f7101c76f564e8c8d6c63b611f8c99d2
   ]
  },
  {
   "cell_type": "code",
<<<<<<< HEAD
   "execution_count": 41,
   "id": "e471cab7-299f-4e43-8c1b-31cb999c268f",
   "metadata": {},
   "outputs": [],
   "source": [
    "#Pie\n",
    "df.head()\n",
    "df['unit'].unique()#tomar cuidado pois 'mode' é uma palavra reservada \n",
    "#A coluna unit possui valores de unidades diferentes portanto sera necessario \n",
    "#definir a unidade ára ser analisada\n",
    "\n",
    "#A unidade sera 'vehicles' portanto é necessario criar um novo dataframe\n",
    "#com apenas essas linhas\n",
    "\n",
    "df_vehicles = df.loc[df['unit'] ==  'Vehicles' ]"
   ]
  },
  {
   "cell_type": "code",
   "execution_count": 45,
   "id": "525566ee-9000-44de-912b-746168f58e2d",
=======
   "execution_count": 39,
   "id": "0e9aacb2-5c89-433c-8fa3-ebef54b1ac4e",
>>>>>>> 94b4a4c8f7101c76f564e8c8d6c63b611f8c99d2
   "metadata": {},
   "outputs": [
    {
     "data": {
      "text/plain": [
<<<<<<< HEAD
       "array(['Cars', 'Buses', 'Vans', 'Trucks'], dtype=object)"
      ]
     },
     "execution_count": 45,
=======
       "578832.0"
      ]
     },
     "execution_count": 39,
>>>>>>> 94b4a4c8f7101c76f564e8c8d6c63b611f8c99d2
     "metadata": {},
     "output_type": "execute_result"
    }
   ],
   "source": [
<<<<<<< HEAD
    "df_vehicles['unit'].unique() #verificar os tipos unicos da coluna 'unit'\n",
    "df_vehicles['mode'].unique() #verificar os tipos unicos da coluna 'mode'"
=======
    "#Quando se agrupa o dataframe por região e somando a coluna 'value' existe uma transformação do dataframe\n",
    "#para dicionário.\n",
    "dictionary_vehicles = df_vehicles.groupby('region')['value'].sum()\n",
    "#dictionary_vehicles.keys()\n",
    "dictionary_vehicles.Australia"
>>>>>>> 94b4a4c8f7101c76f564e8c8d6c63b611f8c99d2
   ]
  },
  {
   "cell_type": "code",
<<<<<<< HEAD
   "execution_count": 49,
   "id": "68f70af2-d5e6-437c-ae8b-773962951cc1",
=======
   "execution_count": 115,
   "id": "2283937d-fb07-42c7-a384-fd0c5b7af96d",
>>>>>>> 94b4a4c8f7101c76f564e8c8d6c63b611f8c99d2
   "metadata": {},
   "outputs": [
    {
     "data": {
      "text/plain": [
<<<<<<< HEAD
       "mode\n",
       "Cars      2975\n",
       "Buses     1485\n",
       "Vans      1449\n",
       "Trucks     933\n",
       "Name: count, dtype: int64"
      ]
     },
     "execution_count": 49,
=======
       "<BarContainer object of 10 artists>"
      ]
     },
     "execution_count": 115,
     "metadata": {},
     "output_type": "execute_result"
    },
    {
     "data": {
      "image/png": "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",
      "text/plain": [
       "<Figure size 1500x500 with 1 Axes>"
      ]
     },
     "metadata": {},
     "output_type": "display_data"
    }
   ],
   "source": [
    "#O tipo de dado dicionário não possui os métodos do dataframe portanto é necessário converte-lo\n",
    "df_vehicles_region = pd.DataFrame(dictionary_vehicles.items(), columns=['Regiões', 'Valores'] )\n",
    "\n",
    "#Filtra o dataframe as linhas que forem diferente de 'World' e 'Rest of the word' para a coluna 'Regiões'. \n",
    "#Organiza as linhas em ordem decrescente e apresenta apenas as primeiras 10 linhas\n",
    "df_top_ten = df_vehicles_region.loc[(df_vehicles_region['Regiões'] != 'World') & \n",
    "                        (df_vehicles_region['Regiões'] != 'Rest of the world')] \\\n",
    "                        .sort_values(by=['Valores'], ascending = False) \\\n",
    "                        .head(10)#Decrescente(False)\n",
    "\n",
    "df_top_ten #dataframe contendo as 10 maiores vendas de veículos em ordem decrescente\n",
    "\n",
    "x = df_top_ten['Regiões'] #Dados coluna Regiões\n",
    "y = df_top_ten['Valores'] #Dados coluna Valores\n",
    "plt.figure(figsize = (15, 5)) #Define o tamanho da figura comprimento por altura\n",
    "plt.title('Vendas por região') #Titulo gráfico\n",
    "plt.xlabel('Regiões')#Etiqueta eixo x\n",
    "plt.ylabel('Bilhões de carros')#Etiqueta eixo y\n",
    "plt.xticks(rotation=45)#Organiza as etiquetas do eixo x em diagonal\n",
    "plt.bar(x, y)#Plotagem do gráfico tipo Bar(Barraa)"
   ]
  },
  {
   "cell_type": "code",
   "execution_count": 135,
   "id": "8e91c2f8-fbd9-4487-b2f9-fb3aa776b8b5",
   "metadata": {},
   "outputs": [
    {
     "data": {
      "text/plain": [
       "array(['BEV', 'PHEV', 'FCEV'], dtype=object)"
      ]
     },
     "execution_count": 135,
>>>>>>> 94b4a4c8f7101c76f564e8c8d6c63b611f8c99d2
     "metadata": {},
     "output_type": "execute_result"
    }
   ],
   "source": [
<<<<<<< HEAD
    "df_vehicles['mode'].value_counts()"
=======
    "df_vehicles['powertrain'].unique()"
   ]
  },
  {
   "cell_type": "code",
   "execution_count": 171,
   "id": "00ba5817-22bd-46f1-a5d3-8084dcc590a6",
   "metadata": {},
   "outputs": [
    {
     "data": {
      "text/plain": [
       "<matplotlib.legend.Legend at 0x20dfcb5e000>"
      ]
     },
     "execution_count": 171,
     "metadata": {},
     "output_type": "execute_result"
    },
    {
     "data": {
      "image/png": "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",
      "text/plain": [
       "<Figure size 900x300 with 1 Axes>"
      ]
     },
     "metadata": {},
     "output_type": "display_data"
    }
   ],
   "source": [
    "df_BEV = df_vehicles.loc[df_vehicles['powertrain'] == 'BEV']\n",
    "df_PHEV = df_vehicles.loc[df_vehicles['powertrain'] == 'PHEV']\n",
    "df_FCEV = df_vehicles.loc[df_vehicles['powertrain'] == 'FCEV']\n",
    "\n",
    "BEV = df_BEV.groupby('year')['value'].sum()\n",
    "PHEV = df_PHEV.groupby('year')['value'].sum()\n",
    "FCEV = df_FCEV.groupby('year')['value'].sum()\n",
    "plt.figure(figsize = (9, 3)) #Define o tamanho da figura comprimento por altura\n",
    "plt.title('Tendência de vendas') #Titulo gráfico\n",
    "plt.xlabel('anos')#Etiqueta eixo x\n",
    "plt.ylabel('Bilhões de carros')#Etiqueta eixo y\n",
    "plt.plot(BEV, label='BEV')\n",
    "plt.plot(PHEV, label='PHEV')\n",
    "plt.plot(FCEV, label = 'FCEV')\n",
    "plt.legend(title='powetrain')"
>>>>>>> 94b4a4c8f7101c76f564e8c8d6c63b611f8c99d2
   ]
  },
  {
   "cell_type": "code",
   "execution_count": null,
<<<<<<< HEAD
   "id": "baedf4c4-a846-46ab-a88e-8e1a2693ed07",
   "metadata": {},
   "outputs": [],
   "source": [
    "#grafico pie(torta)\n",
    "etiquetas = df_vehicles['mode'].unique()  #verifica os tipos unicos da coluna 'mode'\n",
    "\n",
    "valores_etiquetas = df_vehicles['mode'].value_counts()\n",
    "\n",
    "plt.pie(valores_etiquetas , label = etiquetas , autopct = '%1.1f%%')"
   ]
  },
  {
   "cell_type": "code",
   "execution_count": 57,
   "id": "c64359b7-b17a-4432-929f-106e27a82e8b",
   "metadata": {},
   "outputs": [
    {
     "data": {
      "text/plain": [
       "Index(['Australia', 'Austria', 'Belgium', 'Brazil', 'Bulgaria', 'Canada',\n",
       "       'Chile', 'China', 'Colombia', 'Costa Rica', 'Croatia', 'Cyprus',\n",
       "       'Czech Republic', 'Denmark', 'EU27', 'Estonia', 'Europe', 'Finland',\n",
       "       'France', 'Germany', 'Greece', 'Hungary', 'Iceland', 'India', 'Ireland',\n",
       "       'Israel', 'Italy', 'Japan', 'Korea', 'Latvia', 'Lithuania',\n",
       "       'Luxembourg', 'Mexico', 'Netherlands', 'New Zealand', 'Norway',\n",
       "       'Poland', 'Portugal', 'Rest of the world', 'Romania', 'Seychelles',\n",
       "       'Slovakia', 'Slovenia', 'South Africa', 'Spain', 'Sweden',\n",
       "       'Switzerland', 'Turkiye', 'USA', 'United Arab Emirates',\n",
       "       'United Kingdom', 'World'],\n",
       "      dtype='object', name='region')"
      ]
     },
     "execution_count": 57,
     "metadata": {},
     "output_type": "execute_result"
    }
   ],
   "source": [
    "df_vehicles['value'].dtype\n",
    "\n",
    "dictionary_vehicles = df_vehicles.groupby('region')['value'].sum()\n",
    "dictionary_vehicles.keys()"
   ]
  },
  {
   "cell_type": "code",
   "execution_count": 71,
   "id": "4bf103e4-94ad-467f-92fc-1829ebe683ff",
   "metadata": {},
   "outputs": [
    {
     "ename": "NameError",
     "evalue": "name 'false' is not defined",
     "output_type": "error",
     "traceback": [
      "\u001b[1;31m---------------------------------------------------------------------------\u001b[0m",
      "\u001b[1;31mNameError\u001b[0m                                 Traceback (most recent call last)",
      "Cell \u001b[1;32mIn[71], line 2\u001b[0m\n\u001b[0;32m      1\u001b[0m df_vehicles_region \u001b[38;5;241m=\u001b[39m pd\u001b[38;5;241m.\u001b[39mDataFrame(dictionary_vehicles\u001b[38;5;241m.\u001b[39mitems() , columns\u001b[38;5;241m=\u001b[39m[\u001b[38;5;124m'\u001b[39m\u001b[38;5;124mRegions\u001b[39m\u001b[38;5;124m'\u001b[39m , \u001b[38;5;124m'\u001b[39m\u001b[38;5;124mValue\u001b[39m\u001b[38;5;124m'\u001b[39m])\n\u001b[1;32m----> 2\u001b[0m df_vehicles_region\u001b[38;5;241m.\u001b[39msort_values(by\u001b[38;5;241m=\u001b[39m[\u001b[38;5;124m'\u001b[39m\u001b[38;5;124mValue\u001b[39m\u001b[38;5;124m'\u001b[39m] , ascending \u001b[38;5;241m=\u001b[39m \u001b[43mfalse\u001b[49m)\n",
      "\u001b[1;31mNameError\u001b[0m: name 'false' is not defined"
     ]
    }
   ],
   "source": [
    "df_vehicles_region = pd.DataFrame(dictionary_vehicles.items() , columns=['Regions' , 'Value'])\n",
    "df_vehicles_region.sort_values(by=['Value'] , ascending = false)"
   ]
=======
   "id": "1c4cabaf-1158-4aba-94a0-1e7bad670092",
   "metadata": {},
   "outputs": [],
   "source": []
>>>>>>> 94b4a4c8f7101c76f564e8c8d6c63b611f8c99d2
  }
 ],
 "metadata": {
  "kernelspec": {
   "display_name": "Python 3 (ipykernel)",
   "language": "python",
   "name": "python3"
  },
  "language_info": {
   "codemirror_mode": {
    "name": "ipython",
    "version": 3
   },
   "file_extension": ".py",
   "mimetype": "text/x-python",
   "name": "python",
   "nbconvert_exporter": "python",
   "pygments_lexer": "ipython3",
   "version": "3.12.4"
  }
 },
 "nbformat": 4,
 "nbformat_minor": 5
}
