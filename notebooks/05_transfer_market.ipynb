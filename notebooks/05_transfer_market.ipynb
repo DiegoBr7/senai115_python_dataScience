{
 "cells": [
  {
   "cell_type": "code",
   "execution_count": 3,
   "id": "cebbbe0e-5138-4bc3-81a7-2e609e05bfb0",
   "metadata": {},
   "outputs": [],
   "source": [
    "#Importar as bibliotecas\n",
    "\n",
    "from selenium import webdriver #manupular dados na web\n",
    "\n",
    "from selenium.webdriver.common.by import By"
   ]
  },
  {
   "cell_type": "code",
   "execution_count": 45,
   "id": "637b2ff3-0302-4d03-afb1-b4a542d42886",
   "metadata": {},
   "outputs": [
    {
     "name": "stdout",
     "output_type": "stream",
     "text": [
      "['1', 'River Plate', 'Superliga', 'Mâs Monumental', '84.567', '11', 'Primeira', 'Divisão', '14', '1.183.938', '12', '84.567']\n"
     ]
    }
   ],
   "source": [
    "from selenium import webdriver\n",
    "from selenium.webdriver.common.by import By\n",
    "\n",
    "driver = webdriver.Chrome() # Chamar a classe do Chrome\n",
    "\n",
    "driver.implicitly_wait(2) # Método esperar dois segundos\n",
    "\n",
    "driver.get('https://www.transfermarkt.com.br/verein-statistik/zuschauerrangliste/statistik?wettbewerb=liga&sortierung=best&selectedOptionKey=0&plus=1')\n",
    "\n",
    "#dados_tabela = driver.find_elements(By.TAG_NAME, 'td')\n",
    "\n",
    "#print(dados_tabela[0].text)\n",
    "\n",
    "linhas_impares = driver.find_elements(By.CLASS_NAME, 'odd')\n",
    "\n",
    "\n",
    "dados = linhas_impares[0].text.split('\\n')\n",
    "dados += dados[4].split()\n",
    "\n",
    "dados.pop(4)\n",
    "print(dados)"
   ]
  }
 ],
 "metadata": {
  "kernelspec": {
   "display_name": "Python 3 (ipykernel)",
   "language": "python",
   "name": "python3"
  },
  "language_info": {
   "codemirror_mode": {
    "name": "ipython",
    "version": 3
   },
   "file_extension": ".py",
   "mimetype": "text/x-python",
   "name": "python",
   "nbconvert_exporter": "python",
   "pygments_lexer": "ipython3",
   "version": "3.12.4"
  }
 },
 "nbformat": 4,
 "nbformat_minor": 5
}
